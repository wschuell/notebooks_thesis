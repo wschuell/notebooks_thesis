{
 "cells": [
  {
   "cell_type": "markdown",
   "metadata": {},
   "source": [
    "# Running the simulations\n",
    "In this notebook, you will run the simulations needed for plotting the figures of the article, found in a second notebook. You can choose to run them on multiple cores (default) or on a computing cluster. For further explanations considering the execution framework, see https://github.com/wschuell/experiment_manager"
   ]
  },
  {
   "cell_type": "code",
   "execution_count": 1,
   "metadata": {},
   "outputs": [],
   "source": [
    "import naminggamesal as ngal\n",
    "import experiment_manager as xp_man\n",
    "from experiment_manager.batchexp import BatchExp\n",
    "\n",
    "from IPython.display import clear_output\n",
    "import time"
   ]
  },
  {
   "cell_type": "markdown",
   "metadata": {},
   "source": [
    "Defining the basic configuration skeleton of a simulation:"
   ]
  },
  {
   "cell_type": "code",
   "execution_count": 2,
   "metadata": {},
   "outputs": [],
   "source": [
    "def xp_cfg(N,M,W,time_scale=0,active=False,gamma=0.1):\n",
    "    base_cfg = {\n",
    "          \"step\": \"log_improved\", \n",
    "          \"pop_cfg\": {\n",
    "            \"voc_cfg\": {\n",
    "          \"voc_type\": 'matrix_new'\n",
    "            }, \n",
    "        \"strat_cfg\": {\n",
    "          \"vu_cfg\": {\n",
    "            \"vu_type\": \"minimal\"\n",
    "          }, \n",
    "          \"success_cfg\": {\n",
    "            \"success_type\": \"global_norandom\"\n",
    "              }, \n",
    "              \"strat_type\": \"naive\" #random topic choice: changed if active is True\n",
    "            }, \n",
    "            \"nbagent\": N, #population size\n",
    "            \"env_cfg\": {\n",
    "              \"env_type\": \"simple\", \n",
    "              \"M\": M, #number of meanings\n",
    "              \"W\": W  #number of words\n",
    "            }, \n",
    "            \"interact_cfg\": {\n",
    "              \"interact_type\": \"speakerschoice\"\n",
    "            }\n",
    "          }\n",
    "        }\n",
    "    if active:\n",
    "        base_cfg['pop_cfg']['strat_cfg'].update(**{\n",
    "                'strat_type':'lapsmax_mab_explothreshold','bandit_type':'bandit_laps','gamma':gamma,'time_scale':time_scale,\n",
    "                \"memory_policies\": [{\n",
    "                      \"time_scale\": time_scale, \n",
    "                      \"mem_type\": \"interaction_counts_sliding_window_local\"\n",
    "                        }], })\n",
    "    return base_cfg"
   ]
  },
  {
   "cell_type": "markdown",
   "metadata": {},
   "source": [
    "We define here the parameters of what we want to run. Different base configurations (testcases), several values of time scale parameter $\\tau$, and monitoring functions. nb_iter is the number of trials per configuration."
   ]
  },
  {
   "cell_type": "code",
   "execution_count": 3,
   "metadata": {},
   "outputs": [],
   "source": [
    "\n",
    "testcases = [\n",
    "    {'N':40,'M':40,'W':40,'Tmax':10*10**4,'gamma':0.01},  #N: population size, M:number of meanings\n",
    "    {'N':40,'M':40,'W':40,'Tmax':10*10**4,'gamma':1.}     #W: number of words, Tmax: #interactions per run\n",
    "]\n",
    "\n",
    "timesc_values = [1,2,3,4,5,6,7,8,9,10,20,30,50] #values for the timescale parameter\n",
    "\n",
    "analysis_f = [  #analysis functions\n",
    "    'srtheo',     # probability of success\n",
    "    'Nlink',      # vocabulary size (agent level): local complexity\n",
    "    'N_d',        # vocabulary size (population level): global complexity\n",
    "    'homonymy',   # average degree of homonymy \n",
    "    'synonymy',   # average degree of synonymy\n",
    "    'N_meanings', # average number of meanings known by each agent\n",
    "    'N_words'     # average number of words known by each agent\n",
    "]\n",
    "\n",
    "nb_iter = 8 # results averaged over nb_iter trials per configuration"
   ]
  },
  {
   "cell_type": "markdown",
   "metadata": {},
   "source": [
    "Define database and available execution configurations"
   ]
  },
  {
   "cell_type": "code",
   "execution_count": 4,
   "metadata": {},
   "outputs": [],
   "source": [
    "db = ngal.ngdb.NamingGamesDB(do_not_close=True)\n",
    "\n",
    "#config for local execution (single core)\n",
    "jq_cfg_local = {'jq_type':'local','erase':True}#_multiprocess'}\n",
    "\n",
    "#config for local execution on multiple cores\n",
    "jq_cfg_local_multi = {'jq_type':'local_multiprocess','erase':True}\n",
    "\n",
    "#example config for execution on a computing cluster (here PlaFrim experimental testbed)\n",
    "jq_cfg_plafrim = {'jq_type':'plafrim','erase':True,\n",
    "         'modules':['language/python/3.5.2'],\n",
    "         'virtual_env':'testvenv',\n",
    "'requirements' : [\n",
    "    '-e git+https://github.com/wschuell/experiment_manager.git@origin/develop#egg=experiment_manager',\n",
    "    '-e git+https://github.com/flowersteam/naminggamesal.git@origin/develop#egg=naminggamesal'\n",
    "]}"
   ]
  },
  {
   "cell_type": "markdown",
   "metadata": {},
   "source": [
    "The batch object will be the one executing our simulations. You can choose the execution configuration, among those defined above."
   ]
  },
  {
   "cell_type": "code",
   "execution_count": 5,
   "metadata": {},
   "outputs": [],
   "source": [
    "batch = BatchExp(name='cogsci_local_multi',db=db,estimated_time=1200,jq_cfg=jq_cfg_local_multi)\n",
    "#batch = BatchExp(name='cogsci_local',db=db,estimated_time=1200,jq_cfg=jq_cfg_local)\n",
    "#batch = BatchExp(name='cogsci_plafrim',db=db,estimated_time=1200,jq_cfg=jq_cfg_plafrim)"
   ]
  },
  {
   "cell_type": "markdown",
   "metadata": {},
   "source": [
    "With the following function, we can generate all simulation configurations, to be fed to the batch object before actual computation."
   ]
  },
  {
   "cell_type": "code",
   "execution_count": 6,
   "metadata": {},
   "outputs": [],
   "source": [
    "def gen_cfg(N,M,W,Tmax,gamma=0.1):\n",
    "    xp_cfg_l = [xp_cfg(N,M,W)]+[xp_cfg(N,M,W,active=True,time_scale=t,gamma=gamma) for t in timesc_values]\n",
    "    ans = []\n",
    "    for cfg in xp_cfg_l:\n",
    "        ans.append({'xp_cfg':cfg,'method':analysis_f,'nb_iter':nb_iter,'tmax':Tmax})\n",
    "    return ans"
   ]
  },
  {
   "cell_type": "markdown",
   "metadata": {},
   "source": [
    "Adding all simulation configurations to batch object"
   ]
  },
  {
   "cell_type": "code",
   "execution_count": 7,
   "metadata": {
    "scrolled": false
   },
   "outputs": [
    {
     "name": "stdout",
     "output_type": "stream",
     "text": [
      "{'N': 40, 'M': 40, 'W': 40, 'Tmax': 100000, 'gamma': 0.01}\n",
      "{'N': 40, 'M': 40, 'W': 40, 'Tmax': 100000, 'gamma': 1.0}\n"
     ]
    }
   ],
   "source": [
    "for testc in testcases:\n",
    "    print(str(testc))\n",
    "    batch.add_jobs(gen_cfg(**testc))"
   ]
  },
  {
   "cell_type": "markdown",
   "metadata": {},
   "source": [
    "Running all experiments (can be really long! Up to a couple of days on a single core)"
   ]
  },
  {
   "cell_type": "code",
   "execution_count": 8,
   "metadata": {
    "scrolled": false
   },
   "outputs": [
    {
     "name": "stdout",
     "output_type": "stream",
     "text": [
      "[2018 05 14 01:45:02]: Queue updated\n",
      "    total: 0\n",
      "    \n",
      "\n",
      "    execution time: 9 h 15 min 20.924087524414062 s\n",
      "    jobs done: 253\n",
      "    jobs restarted: 0\n",
      "    jobs extended: 0\n",
      "\n"
     ]
    }
   ],
   "source": [
    "while batch.jobqueue.job_list:\n",
    "    clear_output()\n",
    "    batch.update_queue()\n",
    "    time.sleep(10)\n",
    "clear_output()\n",
    "batch.auto_finish_queue(t=10,coeff=2)"
   ]
  },
  {
   "cell_type": "code",
   "execution_count": null,
   "metadata": {},
   "outputs": [],
   "source": []
  }
 ],
 "metadata": {
  "kernelspec": {
   "display_name": "Python 3",
   "language": "python",
   "name": "python3"
  },
  "language_info": {
   "codemirror_mode": {
    "name": "ipython",
    "version": 3
   },
   "file_extension": ".py",
   "mimetype": "text/x-python",
   "name": "python",
   "nbconvert_exporter": "python",
   "pygments_lexer": "ipython3",
   "version": "3.4.3"
  }
 },
 "nbformat": 4,
 "nbformat_minor": 2
}
